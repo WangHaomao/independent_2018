{
 "cells": [
  {
   "cell_type": "code",
   "execution_count": 1,
   "metadata": {},
   "outputs": [],
   "source": [
    "import pandas as pd\n",
    "import numpy as np\n",
    "import matplotlib.pyplot as plt\n",
    "import seaborn as sns\n",
    "from scipy import stats\n",
    "from scipy.stats import norm\n",
    "from pprint import pprint\n",
    "data_folder = '../data/%s'"
   ]
  },
  {
   "cell_type": "code",
   "execution_count": 2,
   "metadata": {},
   "outputs": [
    {
     "name": "stderr",
     "output_type": "stream",
     "text": [
      "/Users/haomao/anaconda3/envs/py36/lib/python3.6/site-packages/IPython/core/interactiveshell.py:3020: DtypeWarning: Columns (11) have mixed types. Specify dtype option on import or set low_memory=False.\n",
      "  interactivity=interactivity, compiler=compiler, result=result)\n"
     ]
    }
   ],
   "source": [
    "df_train = pd.read_csv(data_folder % 'train.csv')"
   ]
  },
  {
   "cell_type": "code",
   "execution_count": 6,
   "metadata": {},
   "outputs": [
    {
     "data": {
      "text/plain": [
       "rid                False\n",
       "estateNameCN        True\n",
       "estateNameEN        True\n",
       "districtL          False\n",
       "districtS           True\n",
       "lat                False\n",
       "lng                False\n",
       "tid                False\n",
       "rid.1              False\n",
       "address            False\n",
       "transcationDate    False\n",
       "princeInHKD         True\n",
       "trans_change        True\n",
       "SFA                 True\n",
       "GFA                 True\n",
       "unitPriceSFA        True\n",
       "unitPriceGFA        True\n",
       "contract            True\n",
       "dtype: bool"
      ]
     },
     "execution_count": 6,
     "metadata": {},
     "output_type": "execute_result"
    }
   ],
   "source": [
    "# df_train.describe()\n",
    "df_train.replace('-',np.nan).replace('--',np.nan).isnull().any()"
   ]
  },
  {
   "cell_type": "code",
   "execution_count": 84,
   "metadata": {},
   "outputs": [
    {
     "data": {
      "text/html": [
       "<div>\n",
       "<style scoped>\n",
       "    .dataframe tbody tr th:only-of-type {\n",
       "        vertical-align: middle;\n",
       "    }\n",
       "\n",
       "    .dataframe tbody tr th {\n",
       "        vertical-align: top;\n",
       "    }\n",
       "\n",
       "    .dataframe thead th {\n",
       "        text-align: right;\n",
       "    }\n",
       "</style>\n",
       "<table border=\"1\" class=\"dataframe\">\n",
       "  <thead>\n",
       "    <tr style=\"text-align: right;\">\n",
       "      <th></th>\n",
       "      <th>rid</th>\n",
       "      <th>estateNameCN</th>\n",
       "      <th>estateNameEN</th>\n",
       "      <th>districtL</th>\n",
       "      <th>districtS</th>\n",
       "      <th>lat</th>\n",
       "      <th>lng</th>\n",
       "      <th>tid</th>\n",
       "      <th>rid.1</th>\n",
       "      <th>address</th>\n",
       "      <th>transcationDate</th>\n",
       "      <th>princeInHKD</th>\n",
       "      <th>trans_change</th>\n",
       "      <th>SFA</th>\n",
       "      <th>GFA</th>\n",
       "      <th>unitPriceSFA</th>\n",
       "      <th>unitPriceGFA</th>\n",
       "      <th>contract</th>\n",
       "    </tr>\n",
       "  </thead>\n",
       "  <tbody>\n",
       "    <tr>\n",
       "      <th>0</th>\n",
       "      <td>10400</td>\n",
       "      <td>兆安苑</td>\n",
       "      <td>Siu On Court</td>\n",
       "      <td>New Territories</td>\n",
       "      <td>Tuen Mun</td>\n",
       "      <td>22.389256</td>\n",
       "      <td>113.976318</td>\n",
       "      <td>MTA0MDAyMDE0LTA0LTA5LS0yNTIwMDAwLjA=</td>\n",
       "      <td>10400</td>\n",
       "      <td>TING MAN HOUSE--BLOCK E 2/F Room 6</td>\n",
       "      <td>2014-04-09</td>\n",
       "      <td>2520000.0</td>\n",
       "      <td>+163%</td>\n",
       "      <td>--</td>\n",
       "      <td>591</td>\n",
       "      <td>-</td>\n",
       "      <td>4264.0</td>\n",
       "      <td>Agreement</td>\n",
       "    </tr>\n",
       "    <tr>\n",
       "      <th>1</th>\n",
       "      <td>10400</td>\n",
       "      <td>兆安苑</td>\n",
       "      <td>Siu On Court</td>\n",
       "      <td>New Territories</td>\n",
       "      <td>Tuen Mun</td>\n",
       "      <td>22.389256</td>\n",
       "      <td>113.976318</td>\n",
       "      <td>MTA0MDAyMDE0LTA0LTAyLS0yNjAwMDAwLjA=</td>\n",
       "      <td>10400</td>\n",
       "      <td>TING LOK HOUSE--BLOCK A 6/F Room 2</td>\n",
       "      <td>2014-04-02</td>\n",
       "      <td>2600000.0</td>\n",
       "      <td>+57%</td>\n",
       "      <td>--</td>\n",
       "      <td>591</td>\n",
       "      <td>-</td>\n",
       "      <td>4399.0</td>\n",
       "      <td>Agreement</td>\n",
       "    </tr>\n",
       "    <tr>\n",
       "      <th>2</th>\n",
       "      <td>10400</td>\n",
       "      <td>兆安苑</td>\n",
       "      <td>Siu On Court</td>\n",
       "      <td>New Territories</td>\n",
       "      <td>Tuen Mun</td>\n",
       "      <td>22.389256</td>\n",
       "      <td>113.976318</td>\n",
       "      <td>MTA0MDAyMDE0LTA0LTE2LS0yOTMwMDAwLjA=</td>\n",
       "      <td>10400</td>\n",
       "      <td>TING ON HOUSE--BLOCK H 1#/F Room 4</td>\n",
       "      <td>2014-04-16</td>\n",
       "      <td>2930000.0</td>\n",
       "      <td>+49%</td>\n",
       "      <td>--</td>\n",
       "      <td>672</td>\n",
       "      <td>-</td>\n",
       "      <td>4360.0</td>\n",
       "      <td>Agreement</td>\n",
       "    </tr>\n",
       "    <tr>\n",
       "      <th>3</th>\n",
       "      <td>10400</td>\n",
       "      <td>兆安苑</td>\n",
       "      <td>Siu On Court</td>\n",
       "      <td>New Territories</td>\n",
       "      <td>Tuen Mun</td>\n",
       "      <td>22.389256</td>\n",
       "      <td>113.976318</td>\n",
       "      <td>MTA0MDAyMDE0LTA1LTA5LS0yNzAwMDAwLjA=</td>\n",
       "      <td>10400</td>\n",
       "      <td>TING HOI HOUSE--BLOCK K 1#/F Room 4</td>\n",
       "      <td>2014-05-09</td>\n",
       "      <td>2700000.0</td>\n",
       "      <td>--</td>\n",
       "      <td>--</td>\n",
       "      <td>672</td>\n",
       "      <td>-</td>\n",
       "      <td>4018.0</td>\n",
       "      <td>Agreement</td>\n",
       "    </tr>\n",
       "    <tr>\n",
       "      <th>4</th>\n",
       "      <td>10400</td>\n",
       "      <td>兆安苑</td>\n",
       "      <td>Siu On Court</td>\n",
       "      <td>New Territories</td>\n",
       "      <td>Tuen Mun</td>\n",
       "      <td>22.389256</td>\n",
       "      <td>113.976318</td>\n",
       "      <td>MTA0MDAyMDE0LTA1LTI2LS0yMzkwMDAwLjA=</td>\n",
       "      <td>10400</td>\n",
       "      <td>TING KAY HOUSE--BLOCK J 1/F Room 3</td>\n",
       "      <td>2014-05-26</td>\n",
       "      <td>2390000.0</td>\n",
       "      <td>+241%</td>\n",
       "      <td>--</td>\n",
       "      <td>672</td>\n",
       "      <td>-</td>\n",
       "      <td>3554.0</td>\n",
       "      <td>Agreement</td>\n",
       "    </tr>\n",
       "  </tbody>\n",
       "</table>\n",
       "</div>"
      ],
      "text/plain": [
       "     rid estateNameCN  estateNameEN        districtL districtS        lat  \\\n",
       "0  10400          兆安苑  Siu On Court  New Territories  Tuen Mun  22.389256   \n",
       "1  10400          兆安苑  Siu On Court  New Territories  Tuen Mun  22.389256   \n",
       "2  10400          兆安苑  Siu On Court  New Territories  Tuen Mun  22.389256   \n",
       "3  10400          兆安苑  Siu On Court  New Territories  Tuen Mun  22.389256   \n",
       "4  10400          兆安苑  Siu On Court  New Territories  Tuen Mun  22.389256   \n",
       "\n",
       "          lng                                   tid  rid.1  \\\n",
       "0  113.976318  MTA0MDAyMDE0LTA0LTA5LS0yNTIwMDAwLjA=  10400   \n",
       "1  113.976318  MTA0MDAyMDE0LTA0LTAyLS0yNjAwMDAwLjA=  10400   \n",
       "2  113.976318  MTA0MDAyMDE0LTA0LTE2LS0yOTMwMDAwLjA=  10400   \n",
       "3  113.976318  MTA0MDAyMDE0LTA1LTA5LS0yNzAwMDAwLjA=  10400   \n",
       "4  113.976318  MTA0MDAyMDE0LTA1LTI2LS0yMzkwMDAwLjA=  10400   \n",
       "\n",
       "                               address transcationDate princeInHKD  \\\n",
       "0   TING MAN HOUSE--BLOCK E 2/F Room 6      2014-04-09   2520000.0   \n",
       "1   TING LOK HOUSE--BLOCK A 6/F Room 2      2014-04-02   2600000.0   \n",
       "2   TING ON HOUSE--BLOCK H 1#/F Room 4      2014-04-16   2930000.0   \n",
       "3  TING HOI HOUSE--BLOCK K 1#/F Room 4      2014-05-09   2700000.0   \n",
       "4   TING KAY HOUSE--BLOCK J 1/F Room 3      2014-05-26   2390000.0   \n",
       "\n",
       "  trans_change SFA  GFA unitPriceSFA unitPriceGFA   contract  \n",
       "0        +163%  --  591            -       4264.0  Agreement  \n",
       "1         +57%  --  591            -       4399.0  Agreement  \n",
       "2         +49%  --  672            -       4360.0  Agreement  \n",
       "3           --  --  672            -       4018.0  Agreement  \n",
       "4        +241%  --  672            -       3554.0  Agreement  "
      ]
     },
     "execution_count": 84,
     "metadata": {},
     "output_type": "execute_result"
    }
   ],
   "source": [
    "df_train.head()"
   ]
  },
  {
   "cell_type": "code",
   "execution_count": 80,
   "metadata": {},
   "outputs": [
    {
     "data": {
      "text/plain": [
       "'finished'"
      ]
     },
     "execution_count": 80,
     "metadata": {},
     "output_type": "execute_result"
    }
   ],
   "source": [
    "# cleaning\n",
    "df_train = df_train.replace('--',np.nan).replace('-',np.nan)\n",
    "df_train.drop('rid.1', axis=1, inplace=True)\n",
    "'finished'"
   ]
  },
  {
   "cell_type": "code",
   "execution_count": 32,
   "metadata": {},
   "outputs": [
    {
     "data": {
      "text/plain": [
       "True"
      ]
     },
     "execution_count": 32,
     "metadata": {},
     "output_type": "execute_result"
    }
   ],
   "source": [
    "LABEL = 'princeInHKD'\n",
    "df_label = df_train[LABEL]\n",
    "df_label.isnull().any()"
   ]
  },
  {
   "cell_type": "code",
   "execution_count": 78,
   "metadata": {},
   "outputs": [],
   "source": [
    "df_train = df_train.dropna(subset=[LABEL])\n",
    "df_train[LABEL] = df_train[LABEL].astype('float64')"
   ]
  },
  {
   "cell_type": "markdown",
   "metadata": {},
   "source": [
    "# Load data "
   ]
  },
  {
   "cell_type": "code",
   "execution_count": 3,
   "metadata": {},
   "outputs": [
    {
     "name": "stderr",
     "output_type": "stream",
     "text": [
      "/Users/haomao/anaconda3/envs/py36/lib/python3.6/site-packages/IPython/core/interactiveshell.py:3020: DtypeWarning: Columns (1) have mixed types. Specify dtype option on import or set low_memory=False.\n",
      "  interactivity=interactivity, compiler=compiler, result=result)\n"
     ]
    }
   ],
   "source": [
    "# df_train.to_csv('data/mytrain3.csv',index=False,encoding='utf_8_sig')\n",
    "LABEL = 'princeInHKD'\n",
    "df_train = pd.read_csv(data_folder % 'mytrain3.csv')\n",
    "# df_train"
   ]
  },
  {
   "cell_type": "code",
   "execution_count": 4,
   "metadata": {},
   "outputs": [
    {
     "data": {
      "text/plain": [
       "rid                False\n",
       "estateNameCN        True\n",
       "estateNameEN        True\n",
       "districtL          False\n",
       "districtS           True\n",
       "lat                False\n",
       "lng                False\n",
       "tid                False\n",
       "address            False\n",
       "transcationDate    False\n",
       "princeInHKD        False\n",
       "trans_change        True\n",
       "SFA                 True\n",
       "GFA                 True\n",
       "unitPriceSFA        True\n",
       "unitPriceGFA        True\n",
       "contract            True\n",
       "dtype: bool"
      ]
     },
     "execution_count": 4,
     "metadata": {},
     "output_type": "execute_result"
    }
   ],
   "source": [
    "df_train.isnull().any()"
   ]
  },
  {
   "cell_type": "code",
   "execution_count": 5,
   "metadata": {},
   "outputs": [
    {
     "data": {
      "text/plain": [
       "princeInHKD    False\n",
       "dtype: bool"
      ]
     },
     "execution_count": 5,
     "metadata": {},
     "output_type": "execute_result"
    }
   ],
   "source": [
    "df_label = df_train[[LABEL]]\n",
    "df_label.isnull().any()"
   ]
  },
  {
   "cell_type": "code",
   "execution_count": 6,
   "metadata": {},
   "outputs": [
    {
     "name": "stderr",
     "output_type": "stream",
     "text": [
      "/Users/haomao/anaconda3/envs/py36/lib/python3.6/site-packages/ipykernel_launcher.py:1: SettingWithCopyWarning: \n",
      "A value is trying to be set on a copy of a slice from a DataFrame.\n",
      "Try using .loc[row_indexer,col_indexer] = value instead\n",
      "\n",
      "See the caveats in the documentation: http://pandas.pydata.org/pandas-docs/stable/indexing.html#indexing-view-versus-copy\n",
      "  \"\"\"Entry point for launching an IPython kernel.\n"
     ]
    }
   ],
   "source": [
    "df_label[LABEL] = df_label[LABEL].astype('float64')"
   ]
  },
  {
   "cell_type": "code",
   "execution_count": 7,
   "metadata": {},
   "outputs": [
    {
     "data": {
      "text/plain": [
       "princeInHKD    float64\n",
       "dtype: object"
      ]
     },
     "execution_count": 7,
     "metadata": {},
     "output_type": "execute_result"
    }
   ],
   "source": [
    "df_label.dtypes"
   ]
  },
  {
   "cell_type": "code",
   "execution_count": 8,
   "metadata": {},
   "outputs": [
    {
     "data": {
      "text/plain": [
       "count    5.198820e+05\n",
       "mean     6.148868e+06\n",
       "std      1.080441e+07\n",
       "min      1.000000e+04\n",
       "25%      2.850000e+06\n",
       "50%      4.300000e+06\n",
       "75%      6.660000e+06\n",
       "max      1.000000e+09\n",
       "Name: princeInHKD, dtype: float64"
      ]
     },
     "execution_count": 8,
     "metadata": {},
     "output_type": "execute_result"
    }
   ],
   "source": [
    "df_label[LABEL].describe()"
   ]
  },
  {
   "cell_type": "code",
   "execution_count": 9,
   "metadata": {},
   "outputs": [
    {
     "name": "stderr",
     "output_type": "stream",
     "text": [
      "/Users/haomao/anaconda3/envs/py36/lib/python3.6/site-packages/scipy/stats/stats.py:1713: FutureWarning: Using a non-tuple sequence for multidimensional indexing is deprecated; use `arr[tuple(seq)]` instead of `arr[seq]`. In the future this will be interpreted as an array index, `arr[np.array(seq)]`, which will result either in an error or a different result.\n",
      "  return np.add.reduce(sorted[indexer] * weights, axis=axis) / sumval\n"
     ]
    },
    {
     "data": {
      "image/png": "[encoded data removed]",
      "text/plain": [
       "<Figure size 432x288 with 1 Axes>"
      ]
     },
     "metadata": {
      "needs_background": "light"
     },
     "output_type": "display_data"
    },
    {
     "data": {
      "image/png": "[encoded data removed]",
      "text/plain": [
       "<Figure size 432x288 with 1 Axes>"
      ]
     },
     "metadata": {
      "needs_background": "light"
     },
     "output_type": "display_data"
    }
   ],
   "source": [
    "sns.distplot(df_label[LABEL], fit=norm)\n",
    "fig = plt.figure()\n",
    "res = stats.probplot(df_label[LABEL], plot=plt)"
   ]
  },
  {
   "cell_type": "code",
   "execution_count": 10,
   "metadata": {},
   "outputs": [],
   "source": [
    "df_train[LABEL] = np.log(df_train[LABEL].astype('float64'))"
   ]
  },
  {
   "cell_type": "code",
   "execution_count": 11,
   "metadata": {},
   "outputs": [
    {
     "data": {
      "text/plain": [
       "rid                  int64\n",
       "estateNameCN        object\n",
       "estateNameEN        object\n",
       "districtL           object\n",
       "districtS           object\n",
       "lat                float64\n",
       "lng                float64\n",
       "tid                 object\n",
       "address             object\n",
       "transcationDate     object\n",
       "princeInHKD        float64\n",
       "trans_change        object\n",
       "SFA                 object\n",
       "GFA                 object\n",
       "unitPriceSFA       float64\n",
       "unitPriceGFA       float64\n",
       "contract            object\n",
       "dtype: object"
      ]
     },
     "execution_count": 11,
     "metadata": {},
     "output_type": "execute_result"
    }
   ],
   "source": [
    "# sns.distplot(test_label, fit=norm)\n",
    "# fig = plt.figure()\n",
    "# res = stats.probplot(test_label, plot=plt)\n",
    "df_train.dtypes"
   ]
  },
  {
   "cell_type": "code",
   "execution_count": 12,
   "metadata": {},
   "outputs": [
    {
     "data": {
      "image/png": "[encoded data removed]",
      "text/plain": [
       "<Figure size 432x288 with 1 Axes>"
      ]
     },
     "metadata": {
      "needs_background": "light"
     },
     "output_type": "display_data"
    },
    {
     "data": {
      "image/png": "[encoded data removed]",
      "text/plain": [
       "<Figure size 432x288 with 1 Axes>"
      ]
     },
     "metadata": {
      "needs_background": "light"
     },
     "output_type": "display_data"
    }
   ],
   "source": [
    "test_label = np.log(df_train[LABEL])\n",
    "sns.distplot(test_label, fit=norm)\n",
    "fig = plt.figure()\n",
    "res = stats.probplot(test_label, plot=plt)"
   ]
  },
  {
   "cell_type": "markdown",
   "metadata": {},
   "source": [
    "# Nov 29th"
   ]
  },
  {
   "cell_type": "code",
   "execution_count": 4,
   "metadata": {},
   "outputs": [
    {
     "name": "stdout",
     "output_type": "stream",
     "text": [
      "estateNameCN        True\n",
      "estateNameEN        True\n",
      "districtL          False\n",
      "districtS           True\n",
      "lat                False\n",
      "lng                False\n",
      "address            False\n",
      "transcationDate    False\n",
      "princeInHKD        False\n",
      "trans_change        True\n",
      "SFA                 True\n",
      "GFA                 True\n",
      "unitPriceSFA        True\n",
      "unitPriceGFA        True\n",
      "dtype: bool\n",
      "estateNameCN        object\n",
      "estateNameEN        object\n",
      "districtL           object\n",
      "districtS           object\n",
      "lat                float64\n",
      "lng                float64\n",
      "address             object\n",
      "transcationDate     object\n",
      "princeInHKD        float64\n",
      "trans_change        object\n",
      "SFA                 object\n",
      "GFA                 object\n",
      "unitPriceSFA       float64\n",
      "unitPriceGFA       float64\n",
      "dtype: object\n"
     ]
    }
   ],
   "source": [
    "df_train = df_train[['estateNameCN', 'estateNameEN', 'districtL', 'districtS', 'lat',\n",
    "       'lng', 'address', 'transcationDate', 'princeInHKD',\n",
    "       'trans_change', 'SFA', 'GFA', 'unitPriceSFA', 'unitPriceGFA']]\n",
    "pprint(df_train.isnull().any())\n",
    "pprint(df_train.dtypes)"
   ]
  },
  {
   "cell_type": "code",
   "execution_count": 5,
   "metadata": {},
   "outputs": [],
   "source": [
    "df_train['transcationDate'] = pd.to_datetime(df_train['transcationDate'])\n",
    "# df_sort_time = df_train.set_index(['transcationDate']).sort_index()\n",
    "df_sort_time = df_train.copy()"
   ]
  },
  {
   "cell_type": "code",
   "execution_count": 6,
   "metadata": {},
   "outputs": [
    {
     "data": {
      "text/plain": [
       "0          Siu On Court&兆安苑\n",
       "1          Siu On Court&兆安苑\n",
       "2          Siu On Court&兆安苑\n",
       "3          Siu On Court&兆安苑\n",
       "4          Siu On Court&兆安苑\n",
       "5          Siu On Court&兆安苑\n",
       "6          Siu On Court&兆安苑\n",
       "7          Siu On Court&兆安苑\n",
       "8          Siu On Court&兆安苑\n",
       "9          Siu On Court&兆安苑\n",
       "10         Siu On Court&兆安苑\n",
       "11         Siu On Court&兆安苑\n",
       "12         Siu On Court&兆安苑\n",
       "13         Siu On Court&兆安苑\n",
       "14         Siu On Court&兆安苑\n",
       "15         Siu On Court&兆安苑\n",
       "16         Siu On Court&兆安苑\n",
       "17         Siu On Court&兆安苑\n",
       "18         Siu On Court&兆安苑\n",
       "19         Siu On Court&兆安苑\n",
       "20         Siu On Court&兆安苑\n",
       "21         Siu On Court&兆安苑\n",
       "22         Siu On Court&兆安苑\n",
       "23         Siu On Court&兆安苑\n",
       "24         Siu On Court&兆安苑\n",
       "25         Siu On Court&兆安苑\n",
       "26         Siu On Court&兆安苑\n",
       "27         Siu On Court&兆安苑\n",
       "28         Siu On Court&兆安苑\n",
       "29         Siu On Court&兆安苑\n",
       "                ...        \n",
       "519852              MOD 595\n",
       "519853              MOD 595\n",
       "519854              MOD 595\n",
       "519855              MOD 595\n",
       "519856              MOD 595\n",
       "519857              MOD 595\n",
       "519858              MOD 595\n",
       "519859              MOD 595\n",
       "519860              MOD 595\n",
       "519861              MOD 595\n",
       "519862              MOD 595\n",
       "519863              MOD 595\n",
       "519864              MOD 595\n",
       "519865              MOD 595\n",
       "519866      Full Pont House\n",
       "519867      Full Pont House\n",
       "519868       Fai Fook House\n",
       "519869       Fai Fook House\n",
       "519870       Fai Fook House\n",
       "519871       Fai Fook House\n",
       "519872       Fai Fook House\n",
       "519873       Fai Fook House\n",
       "519874       Fai Fook House\n",
       "519875    Pine Tree Gardens\n",
       "519876    Pine Tree Gardens\n",
       "519877    Pine Tree Gardens\n",
       "519878    Pine Tree Gardens\n",
       "519879    Pine Tree Gardens\n",
       "519880    Pine Tree Gardens\n",
       "519881        Ma's Building\n",
       "Name: estateName, Length: 519882, dtype: object"
      ]
     },
     "execution_count": 6,
     "metadata": {},
     "output_type": "execute_result"
    }
   ],
   "source": [
    "df_sort_time['estateName'] = df_sort_time['estateNameEN'].fillna('#') + '&' + df_sort_time['estateNameCN'].fillna('#')\n",
    "df_sort_time['estateName'] = df_sort_time['estateName'].str.\\\n",
    "                                            replace('#&#','').str.\\\n",
    "                                            replace('&#','').str.\\\n",
    "                                            replace('#&','')\n",
    "\n",
    "df_sort_time['estateName'] = df_sort_time['estateName'].replace('',np.nan)\n",
    "df_sort_time['estateName']"
   ]
  },
  {
   "cell_type": "code",
   "execution_count": 7,
   "metadata": {},
   "outputs": [],
   "source": [
    "df_sort_time['lat/lng'] = df_sort_time['lat'].astype(str) + ',' + df_sort_time['lng'].astype(str)"
   ]
  },
  {
   "cell_type": "code",
   "execution_count": 8,
   "metadata": {},
   "outputs": [
    {
     "data": {
      "text/plain": [
       "(5787, 6040)"
      ]
     },
     "execution_count": 8,
     "metadata": {},
     "output_type": "execute_result"
    }
   ],
   "source": [
    "len(df_sort_time['lat/lng'].unique().tolist()),len(df_sort_time['estateName'].unique().tolist())"
   ]
  },
  {
   "cell_type": "code",
   "execution_count": 9,
   "metadata": {},
   "outputs": [
    {
     "data": {
      "text/plain": [
       "0           TING MAN HOUSE--BLOCK E 2/F Room 6\n",
       "1           TING LOK HOUSE--BLOCK A 6/F Room 2\n",
       "2           TING ON HOUSE--BLOCK H 1#/F Room 4\n",
       "3          TING HOI HOUSE--BLOCK K 1#/F Room 4\n",
       "4           TING KAY HOUSE--BLOCK J 1/F Room 3\n",
       "5           TING CHI HOUSE--BLOCK F 7/F Room 8\n",
       "6          TING KAY HOUSE--BLOCK J 1#/F Room 4\n",
       "7           TING MAN HOUSE--BLOCK E 2/F Room 5\n",
       "8            TING ON HOUSE--BLOCK H 8/F Room 5\n",
       "9           TING MAN HOUSE--BLOCK E 8/F Room 4\n",
       "10        TING PONG HOUSE--BLOCK D 1#/F Room 6\n",
       "11         TING HOI HOUSE--BLOCK K 1#/F Room 2\n",
       "12          TING YAU HOUSE--BLOCK B 2/F Room 8\n",
       "13          TING HOI HOUSE--BLOCK K 3/F Room 4\n",
       "14           TING ON HOUSE--BLOCK H 1/F Room 3\n",
       "15         TING HEI HOUSE--BLOCK C 1#/F Room 3\n",
       "16         TING KAY HOUSE--BLOCK J 1#/F Room 3\n",
       "17          TING ON HOUSE--BLOCK H 1#/F Room 2\n",
       "18          TING YAU HOUSE--BLOCK B 3/F Room 7\n",
       "19         TING CHI HOUSE--BLOCK F 1#/F Room 6\n",
       "20         TING YAU HOUSE--BLOCK B 1#/F Room 1\n",
       "21         TING CHI HOUSE--BLOCK F 1#/F Room 3\n",
       "22         TING HOI HOUSE--BLOCK K 1#/F Room 6\n",
       "23          TING HOI HOUSE--BLOCK K 8/F Room 7\n",
       "24         TING YAU HOUSE--BLOCK B 1#/F Room 2\n",
       "25         TING YAU HOUSE--BLOCK B 1#/F Room 2\n",
       "26         TING YIN HOUSE--BLOCK G 1#/F Room 4\n",
       "27          TING MAN HOUSE--BLOCK E 3/F Room 7\n",
       "28         TING HOI HOUSE--BLOCK K 1#/F Room 5\n",
       "29         TING KAY HOUSE--BLOCK J 1#/F Room 8\n",
       "                          ...                 \n",
       "519852                             1#/F Room C\n",
       "519853                             2#/F Room A\n",
       "519854                             2#/F Room C\n",
       "519855                             2#/F Room B\n",
       "519856                             3#/F Room C\n",
       "519857                             2#/F Room A\n",
       "519858                             1#/F Room A\n",
       "519859                             2#/F Room C\n",
       "519860                             3#/F Room C\n",
       "519861                             3#/F Room A\n",
       "519862                              6/F Room C\n",
       "519863                             3#/F Room C\n",
       "519864                             1#/F Room A\n",
       "519865                             1#/F Room A\n",
       "519866                             1#/F Room A\n",
       "519867                             1#/F Room A\n",
       "519868                            6/F Room 102\n",
       "519869                            2/F Room 102\n",
       "519870                            4/F Room 102\n",
       "519871                            4/F Room 102\n",
       "519872                            2/F Room 102\n",
       "519873                            4/F Room 102\n",
       "519874                            6/F Room 102\n",
       "519875                             1#/F Room B\n",
       "519876                              9/F Room A\n",
       "519877                              3/F Room B\n",
       "519878                             1#/F Room A\n",
       "519879                              1/F Room A\n",
       "519880                             1#/F Room A\n",
       "519881                              6/F Room A\n",
       "Name: address, Length: 519882, dtype: object"
      ]
     },
     "execution_count": 9,
     "metadata": {},
     "output_type": "execute_result"
    }
   ],
   "source": [
    "df_sort_time['address']"
   ]
  },
  {
   "cell_type": "code",
   "execution_count": 10,
   "metadata": {},
   "outputs": [],
   "source": [
    "\n",
    "# rex_cn = '(\\d+)(樓)'\n",
    "# rex_en = '(\\d+)(#*/[F])'\n",
    "# rex_mix = '(\\d+#*/[F])|(\\d+樓)'\n",
    "rex_cn = '(\\d+)(B*樓)'\n",
    "rex_en = '(\\d+)(#*/[F])'\n",
    "rex_mix = '(\\d+#*/[F])|(\\d+B*樓)'\n",
    "s_first_rex = df_sort_time['address'].str.extract(rex_mix, expand=True)\n",
    "floor_en = s_first_rex[0].str.extract(rex_en, expand=True)[0]\n",
    "floor_cn = s_first_rex[1].str.extract(rex_cn, expand=True)[0]\n",
    "\n",
    "# floor_cn[~floor_cn.isnull()]\n",
    "# df_sort_time.loc['2018-09-08 ']['address'].extract('(\\d+樓)')"
   ]
  },
  {
   "cell_type": "code",
   "execution_count": 11,
   "metadata": {},
   "outputs": [],
   "source": [
    "rex_cn = '(G+)(樓)'\n",
    "rex_en = '(G+)(#*/[F])'\n",
    "rex_mix = '(G+#*/[F])|(G+樓)'\n",
    "s_first_rex = df_sort_time['address'].str.extract(rex_mix, expand=True)\n",
    "floor_en_G = s_first_rex[0].str.extract(rex_en, expand=True)[0]\n",
    "floor_cn_G = s_first_rex[1].str.extract(rex_cn, expand=True)[0]"
   ]
  },
  {
   "cell_type": "code",
   "execution_count": 12,
   "metadata": {},
   "outputs": [],
   "source": [
    "\n",
    "floor = floor_cn.fillna('') + floor_en.fillna('') + floor_en_G.fillna('') + floor_cn_G.fillna('') \n",
    "floor = floor.replace('',np.nan)\n",
    "df_sort_time.loc[floor[floor.isnull()].index]\n",
    "df_sort_time['floor'] = floor"
   ]
  },
  {
   "cell_type": "code",
   "execution_count": 13,
   "metadata": {},
   "outputs": [
    {
     "data": {
      "text/plain": [
       "(447226, 345802)"
      ]
     },
     "execution_count": 13,
     "metadata": {},
     "output_type": "execute_result"
    }
   ],
   "source": [
    "df_1203 = df_sort_time[~df_sort_time['floor'].isnull()]\n",
    "# df_1203 = df_1203[~(df_1203['SFA'].isnull() & df_1203['unitPriceSFA'].isnull())]\n",
    "df_sfa =  df_1203[~(df_1203['SFA'].isnull() & df_1203['unitPriceSFA'].isnull())]\n",
    "df_gfa = df_1203[~(df_1203['GFA'].isnull() & df_1203['unitPriceGFA'].isnull())]\n",
    "\n",
    "len(df_gfa),len(df_sfa)"
   ]
  },
  {
   "cell_type": "code",
   "execution_count": 26,
   "metadata": {},
   "outputs": [],
   "source": [
    "df_in_latlng = df_1203.set_index(['lat/lng'])\n",
    "df_in_latlng = df_in_latlng[~df_in_latlng['estateName'].isnull()]\n",
    "# len(df_in_latlng)\n",
    "# df_in_latlng_no_re = df_in_latlng[~df_in_latlng.index.duplicated(keep='first')]\n",
    "df_in_latlng_no_re = df_in_latlng"
   ]
  },
  {
   "cell_type": "code",
   "execution_count": 28,
   "metadata": {},
   "outputs": [],
   "source": [
    "df_in_rere = df_in_latlng_no_re.reset_index()\n",
    "df_in_rere = df_in_rere[[ 'lat/lng',  'districtL',\n",
    "       'districtS', 'transcationDate', 'princeInHKD', 'SFA', 'GFA', 'unitPriceSFA', 'unitPriceGFA',\n",
    "       'estateName', 'floor']]\n",
    "df_in_rere.to_csv(data_folder % 'train_after_clean.csv',index=False)"
   ]
  },
  {
   "cell_type": "code",
   "execution_count": 72,
   "metadata": {},
   "outputs": [],
   "source": [
    "df_in_latlng_name = df_in_latlng_no_re[['estateName']]\n",
    "# df_in_latlng_name['']\n",
    "df_in_latlng_name = df_in_latlng_name.reset_index().set_index('estateName')\n",
    "df_in_latlng_name['lat'] = df_in_latlng_name['lat/lng'].str.split(',',expand=True)[0]\n",
    "df_in_latlng_name['lng'] = df_in_latlng_name['lat/lng'].str.split(',',expand=True)[1]\n",
    "\n",
    "df_in_latlng_name = df_in_latlng_name[['lat','lng']]\n",
    "# df_in_latlng_name\n",
    "# len(df_in_latlng_name['estateName'].unique())"
   ]
  },
  {
   "cell_type": "code",
   "execution_count": 73,
   "metadata": {},
   "outputs": [
    {
     "name": "stderr",
     "output_type": "stream",
     "text": [
      "/Users/haomao/anaconda3/envs/py36/lib/python3.6/site-packages/ipykernel_launcher.py:1: UserWarning: DataFrame columns are not unique, some columns will be omitted.\n",
      "  \"\"\"Entry point for launching an IPython kernel.\n"
     ]
    }
   ],
   "source": [
    "lldict = df_in_latlng_name.reset_index().set_index('estateName').T.to_dict('list')\n"
   ]
  },
  {
   "cell_type": "code",
   "execution_count": 74,
   "metadata": {},
   "outputs": [],
   "source": [
    "all_lines = ''\n",
    "for k,v in lldict.items():\n",
    "    c_line = k + '#' + lldict[k][0] + ','+ lldict[k][1]+ '\\n'\n",
    "    all_lines += c_line\n",
    "    \n",
    "with open(data_folder % 'geo_file.txt','w') as f:\n",
    "    f.write(all_lines)\n",
    "    \n",
    "f.close()"
   ]
  },
  {
   "cell_type": "code",
   "execution_count": null,
   "metadata": {},
   "outputs": [],
   "source": []
  }
 ],
 "metadata": {
  "kernelspec": {
   "display_name": "Python 3",
   "language": "python",
   "name": "python3"
  },
  "language_info": {
   "codemirror_mode": {
    "name": "ipython",
    "version": 3
   },
   "file_extension": ".py",
   "mimetype": "text/x-python",
   "name": "python",
   "nbconvert_exporter": "python",
   "pygments_lexer": "ipython3",
   "version": "3.6.7"
  }
 },
 "nbformat": 4,
 "nbformat_minor": 2
}
