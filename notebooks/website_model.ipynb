{
 "cells": [
  {
   "cell_type": "code",
   "execution_count": 16,
   "metadata": {},
   "outputs": [],
   "source": [
    "import re\n",
    "import math\n",
    "import queue\n",
    "import datetime\n",
    "import warnings\n",
    "import numpy as np\n",
    "import pandas as pd\n",
    "import seaborn as sns\n",
    "from tqdm import tqdm\n",
    "import lightgbm as lgb\n",
    "from scipy import stats\n",
    "from pprint import pprint\n",
    "from scipy.stats import norm\n",
    "import matplotlib.pyplot as plt\n",
    "data_folder = '../data/%s'"
   ]
  },
  {
   "cell_type": "code",
   "execution_count": 17,
   "metadata": {},
   "outputs": [
    {
     "data": {
      "text/plain": [
       "Index(['transcationDate', 'lat/lng', 'districtL', 'districtS', 'princeInHKD',\n",
       "       'SFA', 'GFA', 'unitPriceSFA', 'unitPriceGFA', 'estateName', 'floor',\n",
       "       'dis_mtr', 'dis_school', 'dis_market', 'areaSize', 'date', 'year',\n",
       "       'month', 'day'],\n",
       "      dtype='object')"
      ]
     },
     "execution_count": 17,
     "metadata": {},
     "output_type": "execute_result"
    }
   ],
   "source": [
    "df_train = pd.read_csv(data_folder % 'train_final.csv')\n",
    "df_train['date'] = pd.to_datetime(df_train['transcationDate'])\n",
    "df_train = df_train.set_index('transcationDate').sort_index()\n",
    "df_train['year'] = df_train['date'].dt.year\n",
    "df_train['month'] = df_train['date'].dt.month\n",
    "df_train['day'] = df_train['date'].dt.day\n",
    "df_train = df_train.reset_index()\n",
    "df_train.columns"
   ]
  },
  {
   "cell_type": "code",
   "execution_count": 18,
   "metadata": {},
   "outputs": [
    {
     "data": {
      "text/html": [
       "<div>\n",
       "<style scoped>\n",
       "    .dataframe tbody tr th:only-of-type {\n",
       "        vertical-align: middle;\n",
       "    }\n",
       "\n",
       "    .dataframe tbody tr th {\n",
       "        vertical-align: top;\n",
       "    }\n",
       "\n",
       "    .dataframe thead th {\n",
       "        text-align: right;\n",
       "    }\n",
       "</style>\n",
       "<table border=\"1\" class=\"dataframe\">\n",
       "  <thead>\n",
       "    <tr style=\"text-align: right;\">\n",
       "      <th></th>\n",
       "      <th>floor</th>\n",
       "      <th>dis_mtr</th>\n",
       "      <th>dis_school</th>\n",
       "      <th>dis_market</th>\n",
       "      <th>areaSize</th>\n",
       "      <th>year</th>\n",
       "      <th>month</th>\n",
       "      <th>day</th>\n",
       "      <th>princeInHKD</th>\n",
       "    </tr>\n",
       "  </thead>\n",
       "  <tbody>\n",
       "    <tr>\n",
       "      <th>0</th>\n",
       "      <td>15</td>\n",
       "      <td>5.9657</td>\n",
       "      <td>0.0374</td>\n",
       "      <td>0.1482</td>\n",
       "      <td>882.0</td>\n",
       "      <td>2003</td>\n",
       "      <td>11</td>\n",
       "      <td>18</td>\n",
       "      <td>2200000.0</td>\n",
       "    </tr>\n",
       "    <tr>\n",
       "      <th>1</th>\n",
       "      <td>1</td>\n",
       "      <td>13284.9770</td>\n",
       "      <td>0.8929</td>\n",
       "      <td>1.4221</td>\n",
       "      <td>545.0</td>\n",
       "      <td>2004</td>\n",
       "      <td>6</td>\n",
       "      <td>1</td>\n",
       "      <td>1790000.0</td>\n",
       "    </tr>\n",
       "    <tr>\n",
       "      <th>2</th>\n",
       "      <td>7</td>\n",
       "      <td>3.7299</td>\n",
       "      <td>0.1577</td>\n",
       "      <td>0.0238</td>\n",
       "      <td>520.0</td>\n",
       "      <td>2004</td>\n",
       "      <td>6</td>\n",
       "      <td>1</td>\n",
       "      <td>945000.0</td>\n",
       "    </tr>\n",
       "    <tr>\n",
       "      <th>3</th>\n",
       "      <td>4</td>\n",
       "      <td>8.3495</td>\n",
       "      <td>0.1246</td>\n",
       "      <td>0.0263</td>\n",
       "      <td>585.0</td>\n",
       "      <td>2004</td>\n",
       "      <td>6</td>\n",
       "      <td>1</td>\n",
       "      <td>1950000.0</td>\n",
       "    </tr>\n",
       "    <tr>\n",
       "      <th>4</th>\n",
       "      <td>2</td>\n",
       "      <td>8.3495</td>\n",
       "      <td>0.1246</td>\n",
       "      <td>0.0263</td>\n",
       "      <td>983.0</td>\n",
       "      <td>2004</td>\n",
       "      <td>6</td>\n",
       "      <td>1</td>\n",
       "      <td>4950000.0</td>\n",
       "    </tr>\n",
       "  </tbody>\n",
       "</table>\n",
       "</div>"
      ],
      "text/plain": [
       "  floor     dis_mtr  dis_school  dis_market  areaSize  year  month  day  \\\n",
       "0    15      5.9657      0.0374      0.1482     882.0  2003     11   18   \n",
       "1     1  13284.9770      0.8929      1.4221     545.0  2004      6    1   \n",
       "2     7      3.7299      0.1577      0.0238     520.0  2004      6    1   \n",
       "3     4      8.3495      0.1246      0.0263     585.0  2004      6    1   \n",
       "4     2      8.3495      0.1246      0.0263     983.0  2004      6    1   \n",
       "\n",
       "   princeInHKD  \n",
       "0    2200000.0  \n",
       "1    1790000.0  \n",
       "2     945000.0  \n",
       "3    1950000.0  \n",
       "4    4950000.0  "
      ]
     },
     "execution_count": 18,
     "metadata": {},
     "output_type": "execute_result"
    }
   ],
   "source": [
    "LABEL = 'princeInHKD'\n",
    "need_features_with_label = ['floor', 'dis_mtr',\n",
    "       'dis_school', 'dis_market', 'areaSize', 'year', 'month', 'day','princeInHKD']\n",
    "\n",
    "cate_features = ['districtL', 'districtS']\n",
    "num_features = ['floor', 'dis_mtr','dis_school', 'dis_market', 'areaSize']\n",
    "date_features = ['year', 'month', 'day']\n",
    "df_train = df_train[need_features_with_label]\n",
    "df_train.head()"
   ]
  },
  {
   "cell_type": "code",
   "execution_count": 19,
   "metadata": {},
   "outputs": [],
   "source": [
    "df_train['floor'] = df_train['floor'].replace('G','0').astype('int64')"
   ]
  },
  {
   "cell_type": "code",
   "execution_count": 20,
   "metadata": {},
   "outputs": [
    {
     "name": "stdout",
     "output_type": "stream",
     "text": [
      "floor           7.580124\n",
      "dis_mtr        39.725909\n",
      "dis_school      0.163729\n",
      "dis_market      0.225913\n",
      "areaSize      594.412054\n",
      "dtype: float64\n",
      "floor           9.725491\n",
      "dis_mtr       616.339621\n",
      "dis_school      0.176334\n",
      "dis_market      0.290479\n",
      "areaSize      299.757712\n",
      "dtype: float64\n"
     ]
    }
   ],
   "source": [
    "mean = df_train[num_features].mean()\n",
    "std = df_train[num_features].std()\n",
    "label_nor = 20\n",
    "print(mean)\n",
    "print(std)"
   ]
  },
  {
   "cell_type": "code",
   "execution_count": 28,
   "metadata": {},
   "outputs": [
    {
     "data": {
      "text/plain": [
       "array([9.72549053e+00, 6.16339621e+02, 1.76333788e-01, 2.90479185e-01,\n",
       "       2.99757712e+02])"
      ]
     },
     "execution_count": 28,
     "metadata": {},
     "output_type": "execute_result"
    }
   ],
   "source": [
    "std.values"
   ]
  },
  {
   "cell_type": "code",
   "execution_count": 21,
   "metadata": {},
   "outputs": [],
   "source": [
    "df_train[num_features] = (df_train[num_features] - mean) / std\n",
    "df_train[LABEL] = np.log(df_train[LABEL]) / label_nor"
   ]
  },
  {
   "cell_type": "code",
   "execution_count": 22,
   "metadata": {},
   "outputs": [
    {
     "data": {
      "text/html": [
       "<div>\n",
       "<style scoped>\n",
       "    .dataframe tbody tr th:only-of-type {\n",
       "        vertical-align: middle;\n",
       "    }\n",
       "\n",
       "    .dataframe tbody tr th {\n",
       "        vertical-align: top;\n",
       "    }\n",
       "\n",
       "    .dataframe thead th {\n",
       "        text-align: right;\n",
       "    }\n",
       "</style>\n",
       "<table border=\"1\" class=\"dataframe\">\n",
       "  <thead>\n",
       "    <tr style=\"text-align: right;\">\n",
       "      <th></th>\n",
       "      <th>floor</th>\n",
       "      <th>dis_mtr</th>\n",
       "      <th>dis_school</th>\n",
       "      <th>dis_market</th>\n",
       "      <th>areaSize</th>\n",
       "      <th>year</th>\n",
       "      <th>month</th>\n",
       "      <th>day</th>\n",
       "      <th>princeInHKD</th>\n",
       "    </tr>\n",
       "  </thead>\n",
       "  <tbody>\n",
       "    <tr>\n",
       "      <th>515229</th>\n",
       "      <td>0.762931</td>\n",
       "      <td>-0.053815</td>\n",
       "      <td>-0.253663</td>\n",
       "      <td>-0.154616</td>\n",
       "      <td>3.221228</td>\n",
       "      <td>2018</td>\n",
       "      <td>8</td>\n",
       "      <td>2</td>\n",
       "      <td>0.879757</td>\n",
       "    </tr>\n",
       "    <tr>\n",
       "      <th>515230</th>\n",
       "      <td>1.482689</td>\n",
       "      <td>-0.038509</td>\n",
       "      <td>1.046712</td>\n",
       "      <td>0.175184</td>\n",
       "      <td>-0.134816</td>\n",
       "      <td>2018</td>\n",
       "      <td>8</td>\n",
       "      <td>2</td>\n",
       "      <td>0.780364</td>\n",
       "    </tr>\n",
       "    <tr>\n",
       "      <th>515231</th>\n",
       "      <td>-0.470940</td>\n",
       "      <td>-0.051358</td>\n",
       "      <td>-0.057444</td>\n",
       "      <td>1.766348</td>\n",
       "      <td>1.506510</td>\n",
       "      <td>2018</td>\n",
       "      <td>8</td>\n",
       "      <td>2</td>\n",
       "      <td>0.868285</td>\n",
       "    </tr>\n",
       "    <tr>\n",
       "      <th>515232</th>\n",
       "      <td>0.762931</td>\n",
       "      <td>-0.050866</td>\n",
       "      <td>-0.225875</td>\n",
       "      <td>0.553869</td>\n",
       "      <td>1.820096</td>\n",
       "      <td>2018</td>\n",
       "      <td>8</td>\n",
       "      <td>2</td>\n",
       "      <td>0.840562</td>\n",
       "    </tr>\n",
       "    <tr>\n",
       "      <th>515233</th>\n",
       "      <td>0.762931</td>\n",
       "      <td>-0.042505</td>\n",
       "      <td>0.140476</td>\n",
       "      <td>-0.349810</td>\n",
       "      <td>-0.014719</td>\n",
       "      <td>2018</td>\n",
       "      <td>8</td>\n",
       "      <td>2</td>\n",
       "      <td>0.784596</td>\n",
       "    </tr>\n",
       "  </tbody>\n",
       "</table>\n",
       "</div>"
      ],
      "text/plain": [
       "           floor   dis_mtr  dis_school  dis_market  areaSize  year  month  \\\n",
       "515229  0.762931 -0.053815   -0.253663   -0.154616  3.221228  2018      8   \n",
       "515230  1.482689 -0.038509    1.046712    0.175184 -0.134816  2018      8   \n",
       "515231 -0.470940 -0.051358   -0.057444    1.766348  1.506510  2018      8   \n",
       "515232  0.762931 -0.050866   -0.225875    0.553869  1.820096  2018      8   \n",
       "515233  0.762931 -0.042505    0.140476   -0.349810 -0.014719  2018      8   \n",
       "\n",
       "        day  princeInHKD  \n",
       "515229    2     0.879757  \n",
       "515230    2     0.780364  \n",
       "515231    2     0.868285  \n",
       "515232    2     0.840562  \n",
       "515233    2     0.784596  "
      ]
     },
     "execution_count": 22,
     "metadata": {},
     "output_type": "execute_result"
    }
   ],
   "source": [
    "split_num = -1000\n",
    "df_train_copy = pd.get_dummies(df_train)\n",
    "train_data = df_train_copy[:split_num]\n",
    "test_data = df_train_copy[split_num:]\n",
    "test_data.head()"
   ]
  },
  {
   "cell_type": "code",
   "execution_count": 23,
   "metadata": {},
   "outputs": [],
   "source": [
    "train_X = train_data.drop(LABEL,axis = 1)\n",
    "train_y = train_data[LABEL]\n",
    "val_X = test_data.drop(LABEL,axis = 1)\n",
    "val_y = test_data[LABEL]"
   ]
  },
  {
   "cell_type": "code",
   "execution_count": 24,
   "metadata": {},
   "outputs": [],
   "source": [
    "model_param = {'lr': 0.01, 'depth': 10, 'tree': 5000, 'leaf': 400, 'sample': 0.9, 'seed': 3}\n",
    "params = {\n",
    "    'task': 'train',\n",
    "    'boosting_type': 'gbdt',\n",
    "    'objective': 'regression_l2',\n",
    "    'metric': {'l2', 'l1'},\n",
    "    'max_depth': model_param['depth'],\n",
    "    'num_leaves': model_param['leaf'],\n",
    "    'min_data_in_leaf': 20,\n",
    "    'learning_rate': model_param['lr'],\n",
    "    'feature_fraction': 1,\n",
    "    'bagging_fraction': model_param['sample'],\n",
    "    'bagging_freq': 1,\n",
    "    'bagging_seed': model_param['seed'],\n",
    "    'verbose': 0\n",
    "}"
   ]
  },
  {
   "cell_type": "code",
   "execution_count": 25,
   "metadata": {},
   "outputs": [
    {
     "name": "stdout",
     "output_type": "stream",
     "text": [
      "Training until validation scores don't improve for 100 rounds.\n",
      "[100]\tvalid_0's l1: 0.0182746\tvalid_0's l2: 0.000625708\n",
      "[200]\tvalid_0's l1: 0.0138276\tvalid_0's l2: 0.000424091\n",
      "[300]\tvalid_0's l1: 0.011842\tvalid_0's l2: 0.000359458\n",
      "[400]\tvalid_0's l1: 0.0107918\tvalid_0's l2: 0.000331537\n",
      "[500]\tvalid_0's l1: 0.0100603\tvalid_0's l2: 0.000313748\n",
      "[600]\tvalid_0's l1: 0.00958724\tvalid_0's l2: 0.00030325\n",
      "[700]\tvalid_0's l1: 0.00928007\tvalid_0's l2: 0.000295996\n",
      "[800]\tvalid_0's l1: 0.00902098\tvalid_0's l2: 0.000290335\n",
      "[900]\tvalid_0's l1: 0.00882168\tvalid_0's l2: 0.000286171\n",
      "[1000]\tvalid_0's l1: 0.00868244\tvalid_0's l2: 0.000283063\n",
      "[1100]\tvalid_0's l1: 0.00855751\tvalid_0's l2: 0.000280136\n",
      "[1200]\tvalid_0's l1: 0.00845096\tvalid_0's l2: 0.000278095\n",
      "[1300]\tvalid_0's l1: 0.00835908\tvalid_0's l2: 0.000276035\n",
      "[1400]\tvalid_0's l1: 0.00827731\tvalid_0's l2: 0.000274312\n",
      "[1500]\tvalid_0's l1: 0.00822122\tvalid_0's l2: 0.000272949\n",
      "[1600]\tvalid_0's l1: 0.00816547\tvalid_0's l2: 0.000272037\n",
      "[1700]\tvalid_0's l1: 0.00810645\tvalid_0's l2: 0.000271379\n",
      "[1800]\tvalid_0's l1: 0.00804962\tvalid_0's l2: 0.000270685\n",
      "[1900]\tvalid_0's l1: 0.00799286\tvalid_0's l2: 0.000270149\n",
      "[2000]\tvalid_0's l1: 0.00796262\tvalid_0's l2: 0.00026963\n",
      "[2100]\tvalid_0's l1: 0.00792688\tvalid_0's l2: 0.000269014\n",
      "[2200]\tvalid_0's l1: 0.00789435\tvalid_0's l2: 0.000268407\n",
      "[2300]\tvalid_0's l1: 0.00786139\tvalid_0's l2: 0.000268232\n",
      "[2400]\tvalid_0's l1: 0.00783851\tvalid_0's l2: 0.000267733\n",
      "[2500]\tvalid_0's l1: 0.00781178\tvalid_0's l2: 0.00026738\n",
      "[2600]\tvalid_0's l1: 0.00778755\tvalid_0's l2: 0.000266996\n",
      "[2700]\tvalid_0's l1: 0.00777857\tvalid_0's l2: 0.000266868\n",
      "[2800]\tvalid_0's l1: 0.00775841\tvalid_0's l2: 0.000266426\n",
      "[2900]\tvalid_0's l1: 0.00774507\tvalid_0's l2: 0.000266078\n",
      "[3000]\tvalid_0's l1: 0.00773022\tvalid_0's l2: 0.00026567\n",
      "[3100]\tvalid_0's l1: 0.00771463\tvalid_0's l2: 0.000265273\n",
      "[3200]\tvalid_0's l1: 0.00770359\tvalid_0's l2: 0.000265214\n",
      "[3300]\tvalid_0's l1: 0.00769374\tvalid_0's l2: 0.000265046\n",
      "[3400]\tvalid_0's l1: 0.00768069\tvalid_0's l2: 0.000264798\n",
      "[3500]\tvalid_0's l1: 0.00767054\tvalid_0's l2: 0.000264349\n",
      "[3600]\tvalid_0's l1: 0.00766025\tvalid_0's l2: 0.000264197\n",
      "[3700]\tvalid_0's l1: 0.00764968\tvalid_0's l2: 0.000263854\n",
      "[3800]\tvalid_0's l1: 0.00764184\tvalid_0's l2: 0.000263648\n",
      "[3900]\tvalid_0's l1: 0.00763435\tvalid_0's l2: 0.000263401\n",
      "[4000]\tvalid_0's l1: 0.00762812\tvalid_0's l2: 0.000263296\n",
      "Early stopping, best iteration is:\n",
      "[3934]\tvalid_0's l1: 0.00763039\tvalid_0's l2: 0.000263225\n"
     ]
    }
   ],
   "source": [
    "lgb_train = lgb.Dataset(train_X, train_y)\n",
    "lgb_eval = lgb.Dataset(val_X, val_y)\n",
    "gbm = lgb.train(\n",
    "    params,\n",
    "    lgb_train,\n",
    "    num_boost_round=5000,\n",
    "    valid_sets=lgb_eval,\n",
    "    verbose_eval = 100,\n",
    "    early_stopping_rounds = 100\n",
    ")"
   ]
  },
  {
   "cell_type": "code",
   "execution_count": 30,
   "metadata": {},
   "outputs": [
    {
     "data": {
      "text/plain": [
       "<lightgbm.basic.Booster at 0x1a130ccc50>"
      ]
     },
     "execution_count": 30,
     "metadata": {},
     "output_type": "execute_result"
    }
   ],
   "source": [
    "gbm.save_model('gbm_for_web.txt',num_iteration=gbm.best_iteration)"
   ]
  },
  {
   "cell_type": "code",
   "execution_count": 13,
   "metadata": {},
   "outputs": [
    {
     "data": {
      "image/png": "[encoded data removed]",
      "text/plain": [
       "<Figure size 1080x360 with 1 Axes>"
      ]
     },
     "metadata": {
      "needs_background": "light"
     },
     "output_type": "display_data"
    }
   ],
   "source": [
    "ypred = gbm.predict(val_X) * 20.0\n",
    "ypred = np.power(np.e,ypred)\n",
    "val_y = np.power(np.e,val_y * 20.0)\n",
    "myplot(val_y,ypred,50)"
   ]
  },
  {
   "cell_type": "code",
   "execution_count": 12,
   "metadata": {},
   "outputs": [],
   "source": [
    "def myplot(val_y,ypred,warmup_steps):\n",
    "    df_plot = pd.DataFrame()\n",
    "    df_plot['true'] = pd.Series(val_y.values)\n",
    "    df_plot['pred'] = pd.Series(ypred)\n",
    "#     warmup_steps = 50\n",
    "    signal_pred = df_plot[['pred']][:warmup_steps]\n",
    "\n",
    "    # Get the true output-signal from the data-set.\n",
    "    signal_true = df_plot[['true']][:warmup_steps]\n",
    "\n",
    "    # Make the plotting-canvas bigger.\n",
    "    plt.figure(figsize=(15,5))\n",
    "\n",
    "    # Plot and compare the two signals.\n",
    "    plt.plot(signal_true, label='true')\n",
    "    plt.plot(signal_pred, label='pred')\n",
    "\n",
    "    # Plot grey box for warmup-period.\n",
    "    p = plt.axvspan(0, warmup_steps, facecolor='black', alpha=0.15)\n",
    "\n",
    "    # Plot labels etc.\n",
    "    plt.ylabel('price')\n",
    "    plt.legend()\n",
    "    plt.show()"
   ]
  },
  {
   "cell_type": "code",
   "execution_count": 15,
   "metadata": {},
   "outputs": [
    {
     "data": {
      "text/plain": [
       "Index(['floor', 'dis_mtr', 'dis_school', 'dis_market', 'areaSize', 'year',\n",
       "       'month', 'day'],\n",
       "      dtype='object')"
      ]
     },
     "execution_count": 15,
     "metadata": {},
     "output_type": "execute_result"
    }
   ],
   "source": [
    "val_X.columns"
   ]
  },
  {
   "cell_type": "code",
   "execution_count": null,
   "metadata": {},
   "outputs": [],
   "source": []
  }
 ],
 "metadata": {
  "kernelspec": {
   "display_name": "Python 3",
   "language": "python",
   "name": "python3"
  },
  "language_info": {
   "codemirror_mode": {
    "name": "ipython",
    "version": 3
   },
   "file_extension": ".py",
   "mimetype": "text/x-python",
   "name": "python",
   "nbconvert_exporter": "python",
   "pygments_lexer": "ipython3",
   "version": "3.6.7"
  }
 },
 "nbformat": 4,
 "nbformat_minor": 2
}
